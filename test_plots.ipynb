{
 "cells": [
  {
   "cell_type": "markdown",
   "metadata": {},
   "source": [
    "This notebook creates a plot that compares novel transcripts (that are RBH match*) in Diencephalon to the best overlap (based on genomic coordinates) in Telecephalon; and also visa versa comparing transcripts in Telecephalon to Diencephalon.  \n",
    "\n",
    "For example if we have a \"RBH match\" Diencephalon transcript, and we find a \"RBH match\" Telecephalon transcript that covers ALL the same base pairs (and perhaps more) than the value is 1.  (the value is realy a ratio of how many Diencepalon transcript base pairs coordinates are covered by the best matching Telecephalon trancript, and best matching just means the highest ratio).  Also, if we have a \"RBH match\" transcript in one brain region and with no overlaping transcript in the other brain region the value (ratio) is 0.\n",
    "\n",
    "* RBH match means a Reciprocal Best Hit Blast match.  The blast from the novel transcript finds as the best hit a zebrafish protein, and when the zebrafish protein is blasted to a database of stickleback novel and annotated transcript, the best hit is the original novel transcript.\n",
    "\n",
    "Results: the plot below show that the majority of RBH match transcripts have a high overlap to a RBH match transcript in the other brain region\n",
    "\n"
   ]
  },
  {
   "cell_type": "code",
   "execution_count": 1,
   "metadata": {
    "collapsed": false,
    "deletable": true,
    "editable": true
   },
   "outputs": [
    {
     "data": {
      "text/plain": [
       "'/Users/josephtroy/jmtfolders/machine_learning_10_15_2017/intro-to-machine-learning-master'"
      ]
     },
     "execution_count": 1,
     "metadata": {},
     "output_type": "execute_result"
    }
   ],
   "source": [
    "import os # operating system library\n",
    "# display current working directory\n",
    "os.getcwd() "
   ]
  },
  {
   "cell_type": "code",
   "execution_count": 2,
   "metadata": {
    "collapsed": false,
    "deletable": true,
    "editable": true
   },
   "outputs": [],
   "source": [
    "import pandas as pd # import the pandas library and use a variable called pd \n",
    "import matplotlib.pyplot as plt\n",
    "import matplotlib\n",
    "# this wierd bit of code is need to display graphics\n",
    "%matplotlib inline  \n",
    "matplotlib.style.use('ggplot')"
   ]
  },
  {
   "cell_type": "code",
   "execution_count": 3,
   "metadata": {
    "collapsed": false,
    "deletable": true,
    "editable": true
   },
   "outputs": [
    {
     "data": {
      "text/plain": [
       "['t_id',\n",
       " 'region',\n",
       " 'chrom',\n",
       " 'transcript_start',\n",
       " 'transcript_end',\n",
       " 'transcript_lenght',\n",
       " 'exons',\n",
       " 'base_pairs',\n",
       " 'diff_region_intersecting_t_id',\n",
       " 'diff_region_intersecting_exons',\n",
       " 'diff_region_intersecting_bps',\n",
       " 'diff_region_ratio',\n",
       " 'region_transcript_start',\n",
       " 'diff_region_transcript_end',\n",
       " 'diff_region_trans_len',\n",
       " 'diff_region_trans_overlap',\n",
       " 'same_region_intersecting_t_id',\n",
       " 'same_region_intersecting_exons',\n",
       " 'same_region_intersecting_bps',\n",
       " 'same_region_ratio',\n",
       " 'same_region_transcript_start',\n",
       " 'same_region_transcript_end',\n",
       " 'same_region_trans_len',\n",
       " 'same_region_trans_overlap']"
      ]
     },
     "execution_count": 3,
     "metadata": {},
     "output_type": "execute_result"
    }
   ],
   "source": [
    "# TO DO set working directory to path where 'max_overlap_from_diff_and_same_brain_region.txt' is at\n",
    "os.chdir('/Users/josephtroy/Box Sync/BoxSimons/RBH_results_intERgenic/RBH_compare_D_and_T/output_data/final_reports')\n",
    "# set file to file name\n",
    "file = 'max_overlap_from_diff_and_same_brain_region.txt'\n",
    "# read file with pandas\n",
    "report_df = pd.read_csv(file,sep='\\t')\n",
    "list(report_df.columns.values)"
   ]
  },
  {
   "cell_type": "code",
   "execution_count": 4,
   "metadata": {
    "collapsed": false,
    "deletable": true,
    "editable": true
   },
   "outputs": [],
   "source": [
    "# sort the data from by the value we wish to plot. sort desending.\n",
    "report_df = report_df.sort_values(by=['diff_region_ratio'],ascending=[False])"
   ]
  },
  {
   "cell_type": "code",
   "execution_count": 5,
   "metadata": {
    "collapsed": false,
    "deletable": true,
    "editable": true
   },
   "outputs": [
    {
     "name": "stdout",
     "output_type": "stream",
     "text": [
      "min ratio = 0.0,   max ratio = 1.0\n"
     ]
    },
    {
     "data": {
      "text/plain": [
       "pandas.core.series.Series"
      ]
     },
     "execution_count": 5,
     "metadata": {},
     "output_type": "execute_result"
    }
   ],
   "source": [
    "ratios_to_plot = report_df['diff_region_ratio']\n",
    "print ('min ratio = ' + str(min(ratios_to_plot))  +  ',   max ratio = ' + str(max(ratios_to_plot)))\n",
    "type(ratios_to_plot)"
   ]
  },
  {
   "cell_type": "code",
   "execution_count": 6,
   "metadata": {
    "collapsed": false,
    "deletable": true,
    "editable": true
   },
   "outputs": [
    {
     "data": {
      "text/plain": [
       "1055"
      ]
     },
     "execution_count": 6,
     "metadata": {},
     "output_type": "execute_result"
    }
   ],
   "source": [
    "len(ratios_to_plot)"
   ]
  },
  {
   "cell_type": "code",
   "execution_count": 8,
   "metadata": {
    "collapsed": false,
    "deletable": true,
    "editable": true
   },
   "outputs": [
    {
     "data": {
      "text/plain": [
       "[<matplotlib.lines.Line2D at 0x115cc9da0>]"
      ]
     },
     "execution_count": 8,
     "metadata": {},
     "output_type": "execute_result"
    },
    {
     "data": {
      "image/png": "[encoded data removed]",
      "text/plain": [
       "<matplotlib.figure.Figure at 0x112a5e160>"
      ]
     },
     "metadata": {},
     "output_type": "display_data"
    }
   ],
   "source": [
    "# for the plot I need a x axis, which is just 0 to the number of transcripts \n",
    "# the y axis is the ratio of similaity to the best matching transcript in the other tissue, with a maximum being 1\n",
    "# 1 means the matching transcript in the other tissue covers all the base pairs, 0 means no matching transcript was\n",
    "# found in the other tissue\n",
    "x_axis = range(len(ratios_to_plot))\n",
    "plt.plot(x_axis,ratios_to_plot)"
   ]
  },
  {
   "cell_type": "code",
   "execution_count": null,
   "metadata": {
    "collapsed": true,
    "deletable": true,
    "editable": true
   },
   "outputs": [],
   "source": []
  }
 ],
 "metadata": {
  "kernelspec": {
   "display_name": "Python 3",
   "language": "python",
   "name": "python3"
  },
  "language_info": {
   "codemirror_mode": {
    "name": "ipython",
    "version": 3
   },
   "file_extension": ".py",
   "mimetype": "text/x-python",
   "name": "python",
   "nbconvert_exporter": "python",
   "pygments_lexer": "ipython3",
   "version": "3.5.2"
  }
 },
 "nbformat": 4,
 "nbformat_minor": 2
}
